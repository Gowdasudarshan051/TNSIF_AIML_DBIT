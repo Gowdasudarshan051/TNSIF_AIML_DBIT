{
 "cells": [
  {
   "cell_type": "code",
   "execution_count": 3,
   "id": "53a164e8",
   "metadata": {},
   "outputs": [],
   "source": [
    "import pandas as pd\n",
    "from mlxtend.frequent_patterns import apriori, association_rules"
   ]
  },
  {
   "cell_type": "code",
   "execution_count": 4,
   "id": "ee6b4439",
   "metadata": {},
   "outputs": [],
   "source": [
    "# Step 1: Create dataset\n",
    "\n",
    "dataset = [\n",
    "    ['Coffee', 'Donut', 'Sandwich'],\n",
    "    ['Coffee', 'Donut'],\n",
    "    ['Coffee', 'Sandwich'],\n",
    "    ['Coffee', 'Muffin'],\n",
    "    ['Donut', 'Muffin']\n",
    "]"
   ]
  },
  {
   "cell_type": "code",
   "execution_count": 5,
   "id": "ef623cce",
   "metadata": {},
   "outputs": [
    {
     "name": "stdout",
     "output_type": "stream",
     "text": [
      "One-hot encoded dataset:\n",
      "   Coffee  Donut  Muffin  Sandwich\n",
      "0    True   True   False      True\n",
      "1    True   True   False     False\n",
      "2    True  False   False      True\n",
      "3    True  False    True     False\n",
      "4   False   True    True     False\n"
     ]
    }
   ],
   "source": [
    "# Convert to DataFrame (one-hot encoding)\n",
    "from mlxtend.preprocessing import TransactionEncoder\n",
    "\n",
    "te = TransactionEncoder()\n",
    "te_array = te.fit(dataset).transform(dataset)\n",
    "df = pd.DataFrame(te_array, columns=te.columns_)\n",
    "\n",
    "print(\"One-hot encoded dataset:\")\n",
    "print(df)"
   ]
  },
  {
   "cell_type": "code",
   "execution_count": 18,
   "id": "2d35968b",
   "metadata": {},
   "outputs": [
    {
     "name": "stdout",
     "output_type": "stream",
     "text": [
      "\n",
      "Frequent Itemsets (support >= 0.4):\n",
      "   support            itemsets\n",
      "0      0.8            (Coffee)\n",
      "1      0.6             (Donut)\n",
      "2      0.4            (Muffin)\n",
      "3      0.4          (Sandwich)\n",
      "4      0.4     (Donut, Coffee)\n",
      "5      0.4  (Coffee, Sandwich)\n"
     ]
    }
   ],
   "source": [
    "# Step 2: Frequent Itemsets\n",
    "\n",
    "frequent_itemsets = apriori(df, min_support=0.4, use_colnames=True)\n",
    "print(\"\\nFrequent Itemsets (support >= 0.4):\")\n",
    "print(frequent_itemsets)"
   ]
  },
  {
   "cell_type": "code",
   "execution_count": 19,
   "id": "465acfcf",
   "metadata": {},
   "outputs": [
    {
     "name": "stdout",
     "output_type": "stream",
     "text": [
      "\n",
      "All Rules:\n",
      "  antecedents consequents  support  confidence      lift\n",
      "0     (Donut)    (Coffee)      0.4    0.666667  0.833333\n",
      "1    (Coffee)     (Donut)      0.4    0.500000  0.833333\n",
      "2    (Coffee)  (Sandwich)      0.4    0.500000  1.250000\n",
      "3  (Sandwich)    (Coffee)      0.4    1.000000  1.250000\n"
     ]
    }
   ],
   "source": [
    "# Step 3: Association Rules\n",
    "\n",
    "rules = association_rules(frequent_itemsets, metric=\"confidence\", min_threshold=0.1)\n",
    "print(\"\\nAll Rules:\")\n",
    "print(rules[['antecedents', 'consequents', 'support', 'confidence', 'lift']])"
   ]
  },
  {
   "cell_type": "code",
   "execution_count": 22,
   "id": "ebf72413",
   "metadata": {},
   "outputs": [],
   "source": [
    "# Step 4: Apply thresholds\n",
    "\n",
    "min_support = 0.4\n",
    "min_confidence = 0.6"
   ]
  },
  {
   "cell_type": "code",
   "execution_count": 23,
   "id": "2b5a3e78",
   "metadata": {},
   "outputs": [
    {
     "name": "stdout",
     "output_type": "stream",
     "text": [
      "\n",
      "Strong Rules (support >= 0.4, confidence >= 0.6):\n",
      "  antecedents consequents  support  confidence      lift\n",
      "0     (Donut)    (Coffee)      0.4    0.666667  0.833333\n",
      "3  (Sandwich)    (Coffee)      0.4    1.000000  1.250000\n"
     ]
    }
   ],
   "source": [
    "strong_rules = rules[(rules['support'] >= min_support) & (rules['confidence'] >= min_confidence)]\n",
    "print(\"\\nStrong Rules (support >= 0.4, confidence >= 0.6):\")\n",
    "print(strong_rules[['antecedents', 'consequents', 'support', 'confidence', 'lift']])"
   ]
  },
  {
   "cell_type": "code",
   "execution_count": null,
   "id": "2c2cd3b2",
   "metadata": {},
   "outputs": [],
   "source": []
  }
 ],
 "metadata": {
  "kernelspec": {
   "display_name": "Python 3 (ipykernel)",
   "language": "python",
   "name": "python3"
  },
  "language_info": {
   "codemirror_mode": {
    "name": "ipython",
    "version": 3
   },
   "file_extension": ".py",
   "mimetype": "text/x-python",
   "name": "python",
   "nbconvert_exporter": "python",
   "pygments_lexer": "ipython3",
   "version": "3.9.13"
  }
 },
 "nbformat": 4,
 "nbformat_minor": 5
}
